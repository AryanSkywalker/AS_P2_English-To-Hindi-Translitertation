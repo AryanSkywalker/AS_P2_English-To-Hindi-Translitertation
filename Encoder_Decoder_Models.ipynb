{
  "nbformat": 4,
  "nbformat_minor": 0,
  "metadata": {
    "colab": {
      "name": "Encoder Decoder Models.ipynb",
      "provenance": [],
      "authorship_tag": "ABX9TyMnK/ABpW+DsaKrEELUvCT4",
      "include_colab_link": true
    },
    "kernelspec": {
      "name": "python3",
      "display_name": "Python 3"
    },
    "language_info": {
      "name": "python"
    }
  },
  "cells": [
    {
      "cell_type": "markdown",
      "metadata": {
        "id": "view-in-github",
        "colab_type": "text"
      },
      "source": [
        "<a href=\"https://colab.research.google.com/github/AryanSkywalker/AS_P2_English-To-Hindi-Translitertation/blob/main/Encoder_Decoder_Models.ipynb\" target=\"_parent\"><img src=\"https://colab.research.google.com/assets/colab-badge.svg\" alt=\"Open In Colab\"/></a>"
      ]
    },
    {
      "cell_type": "markdown",
      "metadata": {
        "id": "JD1qkPfQzraf"
      },
      "source": [
        "# **Modulation**"
      ]
    },
    {
      "cell_type": "code",
      "metadata": {
        "id": "botgXRNjzAc8"
      },
      "source": [
        "import torch\n",
        "from torch import nn as nn\n",
        "from torch import optim as optim\n",
        "import torch.nn.functional as Functional\n",
        "from torch.utils.data import Dataset as Dataset\n",
        "\n",
        "from matplotlib import pyplot as plt\n",
        "import seaborn as sns\n",
        "import numpy as np\n",
        "import os\n",
        "import random\n",
        "\n",
        "import re\n",
        "\n",
        "import xml.etree.ElementTree as ET"
      ],
      "execution_count": null,
      "outputs": []
    },
    {
      "cell_type": "markdown",
      "metadata": {
        "id": "LZBQUb8nzvUY"
      },
      "source": [
        "# **Data Preprocessing**"
      ]
    },
    {
      "cell_type": "code",
      "metadata": {
        "colab": {
          "base_uri": "https://localhost:8080/"
        },
        "id": "ym93wKcqzqD8",
        "outputId": "af66969b-b651-4bfa-bcfb-94d4290306a3"
      },
      "source": [
        "alphabetArchive = 'ABCDEFGHIJKLMNOPQRSTUVWXYZ'\n",
        "pad = '<pad>'\n",
        "\n",
        "alphabet2code = {pad:0}\n",
        "for idx, alphabet in enumerate(alphabetArchive):\n",
        "\n",
        "  alphabet2code[alphabet] = idx + 1\n",
        "\n",
        "alphabet2code"
      ],
      "execution_count": null,
      "outputs": [
        {
          "output_type": "execute_result",
          "data": {
            "text/plain": [
              "{'<pad>': 0,\n",
              " 'A': 1,\n",
              " 'B': 2,\n",
              " 'C': 3,\n",
              " 'D': 4,\n",
              " 'E': 5,\n",
              " 'F': 6,\n",
              " 'G': 7,\n",
              " 'H': 8,\n",
              " 'I': 9,\n",
              " 'J': 10,\n",
              " 'K': 11,\n",
              " 'L': 12,\n",
              " 'M': 13,\n",
              " 'N': 14,\n",
              " 'O': 15,\n",
              " 'P': 16,\n",
              " 'Q': 17,\n",
              " 'R': 18,\n",
              " 'S': 19,\n",
              " 'T': 20,\n",
              " 'U': 21,\n",
              " 'V': 22,\n",
              " 'W': 23,\n",
              " 'X': 24,\n",
              " 'Y': 25,\n",
              " 'Z': 26}"
            ]
          },
          "metadata": {
            "tags": []
          },
          "execution_count": 2
        }
      ]
    },
    {
      "cell_type": "code",
      "metadata": {
        "id": "Ds9GoN9R1wUA"
      },
      "source": [
        "devnagariArchive = [chr(i) for i in range(2304, 2432)]\n",
        "devArchiveLength = len(devnagariArchive)\n",
        "\n",
        "devnagari2Code = {pad: 0}\n",
        "for idx, varn in enumerate(devnagariArchive):\n",
        "\n",
        "  devnagari2Code[varn] = idx + 1\n",
        "\n",
        "#devnagari2Code"
      ],
      "execution_count": null,
      "outputs": []
    },
    {
      "cell_type": "code",
      "metadata": {
        "id": "u9HGABq5IWQY"
      },
      "source": [
        "filterCommand  = re.compile('[^a-zA-Z ]')\n",
        "\n",
        "def CleanEnglish(english):\n",
        "\n",
        "  english = english.replace('-', ' ').replace(',', ' ').upper()\n",
        "  english = filterCommand.sub('', english)\n",
        "  return english.split(' ')\n",
        "\n",
        "def CleanHindi(hindi):\n",
        "\n",
        "  hindi = hindi.replace('-', ' ').replace(',', ' ')\n",
        "  betterHindi = ''\n",
        "\n",
        "  for varn in hindi:\n",
        "\n",
        "    if varn in hindi or varn == ' ':\n",
        "\n",
        "      betterHindi += varn\n",
        "\n",
        "  return betterHindi.split()"
      ],
      "execution_count": null,
      "outputs": []
    },
    {
      "cell_type": "markdown",
      "metadata": {
        "id": "Xo-oCTl4PkCz"
      },
      "source": [
        "# **Dataset Class**"
      ]
    },
    {
      "cell_type": "code",
      "metadata": {
        "id": "K4MOUlekPSWG"
      },
      "source": [
        "class English2HindiDataset(Dataset):\n",
        "\n",
        "  def __init__(self, fileName):\n",
        "\n",
        "    self.englishArchive, self.hindiArchive = self.ReadXMLCode(fileName, CleanEnglish, CleanHindi)\n",
        "    self.shuffleIdx = list(range(len(self.englishArchive)))\n",
        "    random.shuffle(self.shuffleIdx)\n",
        "    self.shuffleStartIdx = 0\n",
        "\n",
        "  def __len__(self):\n",
        "\n",
        "    return len(self.englishArchive)\n",
        "\n",
        "  def __getitem__(self, idx):\n",
        "\n",
        "    return self.englishArchive[idx], self.hindiArchive[idx]\n",
        "\n",
        "  def ReadXMLCode(self, fileName, sourceCleaner, targetCleaner):\n",
        "\n",
        "    parsedDataset = ET.parse(fileName).getroot()\n",
        "\n",
        "    X, Y = [], []\n",
        "\n",
        "    for line in parsedDataset:\n",
        "\n",
        "      xComponents, yComponents = sourceCleaner(line[0].text), targetCleaner(line[1].text)\n",
        "\n",
        "      if len(xComponents) != len(yComponents):\n",
        "\n",
        "        print('Skipping Over: ', line[0].text, ' - ', line[1].text)\n",
        "        continue\n",
        "\n",
        "      for xComponent, yComponent in zip(xComponents, yComponents):\n",
        "\n",
        "        X.append(xComponent)\n",
        "        Y.append(yComponent)\n",
        "\n",
        "    return X, Y\n",
        "\n",
        "  def GetRandomSample(self):\n",
        "\n",
        "    return self.__getitem__(random.randint(0, len(self.englishArchive)))\n",
        "\n",
        "  def GetBatchFrom(self, batchSize, array):\n",
        "\n",
        "    end = self.shuffleStartIdx + batchSize\n",
        "    batch = []\n",
        "\n",
        "    if end >= len(array):\n",
        "\n",
        "      batch = [array[i] for i in self.shuffleIdx[0:end%len(self.englishArchive)]]\n",
        "      end = len(self.englishArchive)\n",
        "\n",
        "    return batch + [array[i] for i in self.shuffleIdx[self.shuffleStartIdx:end]]\n",
        "\n",
        "  def GetBatch(self, batchSize):\n",
        "\n",
        "    englishBatch = self.GetBatchFrom(batchSize, self.englishArchive)\n",
        "    hindibatch = self.GetBatchFrom(batchSize, self.hindiArchive)\n",
        "\n",
        "    self.shuffleStartIdx += batchSize + 1\n",
        "\n",
        "    if self.shuffleStartIdx >= len(self.englishArchive):\n",
        "\n",
        "      random.shuffle(self.shuffleIdx)\n",
        "      self.shuffleStartIdx = 0\n",
        "\n",
        "    return englishBatch, hindibatch"
      ],
      "execution_count": null,
      "outputs": []
    },
    {
      "cell_type": "code",
      "metadata": {
        "colab": {
          "base_uri": "https://localhost:8080/"
        },
        "id": "dT9TAE09WWaS",
        "outputId": "19caa6ac-2b7d-4286-81da-b8b0f2317212"
      },
      "source": [
        "trainingSet = English2HindiDataset(os.path.join('.', 'NEWS2012TrainingEnHi13937-1563719470862.xml'))"
      ],
      "execution_count": null,
      "outputs": [
        {
          "output_type": "stream",
          "text": [
            "Skipping Over:  BARHARWA JUNCTION  -  बरहरवा\n",
            "Skipping Over:  STATE BNK TR  -  स्टेट बैंक ऑफ त्रावणकोर\n",
            "Skipping Over:  TAKHAT SHRI KESGARH SAHIB, ANANDPUR SAHIB (PUNJAB)  -  तखत श्री केसगढ़ साहिब, आनंदपुर साहिब (पंजाब)\n",
            "Skipping Over:  ORDER OF AGRICULTURAL, COMMERCIAL OR INDUSTRIAL MERIT  -  ऑडर ऑफ एग्रिकल्चरल, कमर्शियल ऑर इंडस्ट्रीयल मेरिट\n",
            "Skipping Over:  SOUTH ARLINGTON CHURCH OF CHRIST  -  साउथ अर्लिंग्टन\n",
            "Skipping Over:  SCOTTISH CHURCH COLLEGE, CALCUTTA  -  स्कॉट‍िश चर्च कॉलेज, कैलकटा\n",
            "Skipping Over:  KING EDWARD VII  -  किंग एडवर्ड\n",
            "Skipping Over:  SRI RAMAKRISHNA VIDYASHALA, MYSORE  -  श्री रामकृष्ण व‍िद्याशाला, मैसूर\n",
            "Skipping Over:  DIBANG VALLEY  -  दिबंगवैली\n",
            "Skipping Over:  SAINT MICHAEL'S ACADEMY, CHENNAI  -  सेंट माइकल्स एकेडमी, चेन्नई\n",
            "Skipping Over:  CARMEL CONVENT SCHOOL, CHANAKYA PURI  -  कारमेल कॉन्‍वेंट स्कूल, चाणक्य पुरी\n",
            "Skipping Over:  HEWLETT - PACKARD  -  ह्यूलेट-पैकर्ड\n",
            "Skipping Over:  SILVERLINE SCHOOL, GHAZIABAD  -  सिल्वरलाइन स्कूल, गाज़ियाबाद\n",
            "Skipping Over:  APNA KAUN ?  -  अपना कौन?\n",
            "Skipping Over:  ORDER OF VASA  -  ऑडर ऑफ़ द वासा\n",
            "Skipping Over:  TAKHAT SHRI DAMDAMA SAHIB, BANTHIDA (PUNJAB)  -  तखत श्री दमदमा साहिब, बनठिंडा (पंजाब)\n",
            "Skipping Over:  TAKHAT SHRI SACHKHAND SAHIB, NANDED (MAHARASHTRA)  -  तखत श्री सचखंड साहिब, नांदेड़ (महाराष्‍ट्र)\n",
            "Skipping Over:  AZAMNAGAR ROAD  -  आज़मनगर\n",
            "Skipping Over:  CAPE TOWN  -  केपटाउन\n",
            "Skipping Over:  NEW ZEALAND  -  न्यूज़ीलैंड\n",
            "Skipping Over:  SEA OF THE HEBRIDES  -  सी ऑफ हरब्रिड्‍स\n",
            "Skipping Over:  RAMCOIND  -  राम्को इंड\n",
            "Skipping Over:  VIJAYA HIGH SCHOOL, JAYANAGAR, BANGALORE  -  विद्या हाई स्कूल, जयनगर, बैंगलोर\n",
            "Skipping Over:  KELVINGROVE ART GALLERY AND MUSEUM  -  केल्व‍िनग्रोव आर्ट एण्ड म्युज़ियम\n",
            "Skipping Over:  AUSTRALIAN NATIONAL UNIVERSITY  -  ऑस्ट्रेलियननेशनल यूनिवर्सिटी\n",
            "Skipping Over:  GOKHALE MEMORIAL GIRLS SCHOOL, CALCUTTA  -  गोखले मेमोर‍ियल गर्ल्स स्कूल, कैलकटा\n",
            "Skipping Over:  JAHAN AARA  -  जहाँआरा\n",
            "Skipping Over:  NAVABHARAT FERRO ALLOYS  -  नव भारत फ़ैरो अलॉय\n",
            "Skipping Over:  RAMA LINGESHWARA  -  रामालिंगेश्वर\n",
            "Skipping Over:  FAKHRUN NISA  -  फखरुन्निसा\n",
            "Skipping Over:  WELHAM GIRLS' HIGH SCHOOL, DEHRADUN  -  वेल्हैम गर्ल्स हाई स्कूल, देहरादून\n",
            "Skipping Over:  REDIFF.COM INDIA LIMITED  -  रेडिफ़ डॉट कॉम इंडिया लिमिटेड\n",
            "Skipping Over:  OMKARNATH THAKUR  -  ओंकार नाथ ठाकुर\n",
            "Skipping Over:  TAKHAT SHRI AKAL TAKHAT SAHIB, AMRITSAR (PUNJAB)  -  तखत श्री अकाल तखत साहिब, अमृतसर (पंजाब)\n",
            "Skipping Over:  OPENTV  -  ओपन टीवी\n",
            "Skipping Over:  SAINT XAVIERS'S SCHOOL, CHANDIGARH  -  सेंट ज़ेवियर्स स्कूल, चंडीगढ़\n",
            "Skipping Over:  MODEL ENGLISH SCHOOL, DOMBIVLI  -  मॉडेल इंग्लिश स्कूल, डोम्बिवली‍\n",
            "Skipping Over:  SETH MUKAND LAL INTER COLLEGE, GHAZIABAD  -  सेठ मुकुंद लाल इंटर कॉलेज, गाज़ियाबाद\n",
            "Skipping Over:  ENVOY COMMUNICATIONS GROUP  -  एन्वॉय कम्युनिकेशंस\n",
            "Skipping Over:  WAR OF THE HOLY LEAGUE  -  वार ऑफ होली लीग\n",
            "Skipping Over:  SAINT MARY'S CONVENT INTER COLLEGE, ALLAHABAD  -  सेंट मेरीज़ कॉंन्वेंट इंटर कॉलेज, अलाहाबाद\n",
            "Skipping Over:  SAINT JOHN'S HIGH SCHOOL, CHANDIGARH  -  सेंट जॉन्‍स हाई स्कूल, चंडीगढ़\n",
            "Skipping Over:  VAPARAISO CHURCH OF CHRIST  -  व्हापरासिओ\n",
            "Skipping Over:  THE BRITISH SCHOOL, NEW DELHI  -  द ब्रिटिश स्कूल, न्यू डेल्ही\n",
            "Skipping Over:  PARIS CHARLES DE GAULLE  -  पेरिस रॉसे चार्ल्स डे ग्यूले\n",
            "Skipping Over:  PARKWAY APOSTOLIC  -  पार्क वे अपोस्टोलिक\n",
            "Skipping Over:  SELAQUI WORLD SCHOOL, DEHRADUN  -  सेलाकी वर्ल्ड स्कूल, देहरादून\n",
            "Skipping Over:  WOODSTOCK SCHOOL, MUSSOORIE  -  वूडस्टॉक स्कूल, मसूरी\n",
            "Skipping Over:  MAUNA LOA  -  मौनालोआ\n",
            "Skipping Over:  WELHAM BOYS' SCHOOL, DEHRADUN  -  वेल्हैम बॉयज़ स्कूल, देहरादून\n",
            "Skipping Over:  MASS MUTUAL LIFE  -  मास म्युच्युअल लाइफ़ इंश्योरेंस\n",
            "Skipping Over:  STATS CHIPPAC  -  स्टेट्सचिपपैक\n",
            "Skipping Over:  NEWFOUNDLAND  -  न्यू फाउंडलैंड\n",
            "Skipping Over:  LONDONHEATHROW  -  लंदन हीथ्रो\n",
            "Skipping Over:  CATHERINE ZETA - JONES  -  कैथरीन ज़ेटा-जोन्स\n",
            "Skipping Over:  VIDYA VARDHAKA SANGHA HIGH SCHOOL, BANGALORE  -  विद्या वर्धक संघ हाई स्कूल, बैंगलोर\n",
            "Skipping Over:  MODERN MATRICULATION SCHOOL, CHOLVARAM NAGAR  -  मॉडर्न मैट्रिक्युलेशन स्कूल, चोल्वाराम नगर\n",
            "Skipping Over:  RETALIX  -  रेटालिक्स लि.\n",
            "Skipping Over:  CARMEL CONVENT SCHOOL, CHANDIGARH  -  कारमेल कॉन्‍वेंट स्कूल, चंडीगढ़\n",
            "Skipping Over:  GOVERNMENT MODEL HIGHER SECONDARY SCHOOL, THIRUVANANTHAPURAM  -  गवर्नमेंट मॉडेल हायर सेकंडरी स्कूल, थ‍िरुवनंतपुरम\n",
            "Skipping Over:  SRISAILAM  -  श्री शैलम\n",
            "Skipping Over:  COLVIN TALUQADAR'S COLLEGE, LUCKNOW  -  कॉल्व‍िन तालुकदार्स कॉलेज, लखनऊ\n",
            "Skipping Over:  KARA-KUM  -  काराकुम\n",
            "Skipping Over:  WIND RIVER  -  विंडरिवर\n",
            "Skipping Over:  CAMBRIDGE SCHOOL, INDIRAPURAM  -  कैम्ब्रिज स्कूल, इंदिरापुरम\n",
            "Skipping Over:  NETAJI SUBHASH CHANDRA BOSE  -  नेताजी सुभाषचंद्र बोस\n",
            "Skipping Over:  ROCKBROOK UNITED  -  रॉकब्रुक यूनाइटेड मेथोडिस्ट\n",
            "Skipping Over:  WALTER SCOTT  -  वॉल्टरस्कॉट\n",
            "Skipping Over:  COLOURPLUS FASHIONS  -  कलर प्लस फ़ैशन्स\n",
            "Skipping Over:  BAL KRISHNA  -  बालकृष्णा\n",
            "Skipping Over:  ARMY PUBLIC SCHOOL, NEW DELHI  -  आर्मी पब्‍लिक स्‍कूल, न्यू डेल्ही\n"
          ],
          "name": "stdout"
        }
      ]
    },
    {
      "cell_type": "code",
      "metadata": {
        "id": "YUoVwk7yYnqR"
      },
      "source": [
        "testingDataset = English2HindiDataset(os.path.join('.', 'NEWS2012-Ref-EnHi-1000.xml'))"
      ],
      "execution_count": null,
      "outputs": []
    },
    {
      "cell_type": "code",
      "metadata": {
        "id": "tt4Cy1XoFVBU"
      },
      "source": [
        "accelerator = torch.device(\"cuda:0\" if torch.cuda.is_available() else \"cpu\")"
      ],
      "execution_count": null,
      "outputs": []
    },
    {
      "cell_type": "code",
      "metadata": {
        "id": "DvFFpsiJbJXj"
      },
      "source": [
        "def RepresentEnglishWord(word):\n",
        "\n",
        "  representation = torch.zeros((len(word) + 1, 1, len(alphabet2code))).to(accelerator)\n",
        "\n",
        "  for i, letter in enumerate(word):\n",
        "\n",
        "    representation[i, 0, alphabet2code[letter]] = 1\n",
        "\n",
        "  representation[-1, 0, alphabet2code['<pad>']] = 1\n",
        "\n",
        "  return representation"
      ],
      "execution_count": null,
      "outputs": []
    },
    {
      "cell_type": "code",
      "metadata": {
        "colab": {
          "base_uri": "https://localhost:8080/"
        },
        "id": "Q7La2DUSbqFL",
        "outputId": "1f1ff1a0-e03a-48a9-b9a5-f468e879c3cf"
      },
      "source": [
        "RepresentEnglishWord('PARI').shape"
      ],
      "execution_count": null,
      "outputs": [
        {
          "output_type": "execute_result",
          "data": {
            "text/plain": [
              "torch.Size([5, 1, 27])"
            ]
          },
          "metadata": {
            "tags": []
          },
          "execution_count": 10
        }
      ]
    },
    {
      "cell_type": "code",
      "metadata": {
        "id": "AIXXNW3dcx28"
      },
      "source": [
        "def RepresentHindiWord(word):\n",
        "\n",
        "  word = list(word)\n",
        "  #print(word)\n",
        "  dead = []\n",
        "\n",
        "  for i in range(len(word)):\n",
        "\n",
        "    if word[i] in ['\\u200d', '\\\\', \"'\", '.', '/', '(', ')', ':', '1', '2', '3', '4', '5', '6', '7', '8', '9', '10', '\"', '|']:\n",
        "\n",
        "      dead.append(i)\n",
        "  idx = 0\n",
        "  for i in dead:\n",
        "\n",
        "    del(word[i-idx])\n",
        "    idx += 1\n",
        "\n",
        "  #print(word, ''.join(word), dead)\n",
        "  \n",
        "  representation = torch.zeros((len(word) + 1, 1)).to(accelerator)\n",
        "\n",
        "  for i, varn in enumerate(word):\n",
        "\n",
        "    representation[i, 0] = devnagari2Code[varn]\n",
        "\n",
        "  representation[-1, 0] = devnagari2Code['<pad>']\n",
        "  return representation.long()"
      ],
      "execution_count": null,
      "outputs": []
    },
    {
      "cell_type": "code",
      "metadata": {
        "colab": {
          "base_uri": "https://localhost:8080/"
        },
        "id": "1_jE5rKsdYJI",
        "outputId": "c6bec738-5837-42dc-eccf-78ec4e7850fd"
      },
      "source": [
        "sample = trainingSet.GetRandomSample()\n",
        "\n",
        "print(sample[0])\n",
        "print(RepresentEnglishWord(sample[0]))\n",
        "print(sample[1])\n",
        "print(RepresentHindiWord(sample[1]))"
      ],
      "execution_count": null,
      "outputs": [
        {
          "output_type": "stream",
          "text": [
            "BARSI\n",
            "tensor([[[0., 0., 1., 0., 0., 0., 0., 0., 0., 0., 0., 0., 0., 0., 0., 0., 0.,\n",
            "          0., 0., 0., 0., 0., 0., 0., 0., 0., 0.]],\n",
            "\n",
            "        [[0., 1., 0., 0., 0., 0., 0., 0., 0., 0., 0., 0., 0., 0., 0., 0., 0.,\n",
            "          0., 0., 0., 0., 0., 0., 0., 0., 0., 0.]],\n",
            "\n",
            "        [[0., 0., 0., 0., 0., 0., 0., 0., 0., 0., 0., 0., 0., 0., 0., 0., 0.,\n",
            "          0., 1., 0., 0., 0., 0., 0., 0., 0., 0.]],\n",
            "\n",
            "        [[0., 0., 0., 0., 0., 0., 0., 0., 0., 0., 0., 0., 0., 0., 0., 0., 0.,\n",
            "          0., 0., 1., 0., 0., 0., 0., 0., 0., 0.]],\n",
            "\n",
            "        [[0., 0., 0., 0., 0., 0., 0., 0., 0., 1., 0., 0., 0., 0., 0., 0., 0.,\n",
            "          0., 0., 0., 0., 0., 0., 0., 0., 0., 0.]],\n",
            "\n",
            "        [[1., 0., 0., 0., 0., 0., 0., 0., 0., 0., 0., 0., 0., 0., 0., 0., 0.,\n",
            "          0., 0., 0., 0., 0., 0., 0., 0., 0., 0.]]])\n",
            "बरसी\n",
            "tensor([[45],\n",
            "        [49],\n",
            "        [57],\n",
            "        [65],\n",
            "        [ 0]])\n"
          ],
          "name": "stdout"
        }
      ]
    },
    {
      "cell_type": "markdown",
      "metadata": {
        "id": "DtgizBAMwHT1"
      },
      "source": [
        "# **Transliterator**"
      ]
    },
    {
      "cell_type": "code",
      "metadata": {
        "id": "NAf5QmkIwGqm"
      },
      "source": [
        "class TransliterationEngine(nn.Module):\n",
        "\n",
        "  def __init__(self, inSize, sSize, ySize):\n",
        "\n",
        "    super(TransliterationEngine, self).__init__()\n",
        "\n",
        "    self.sSize = sSize\n",
        "    self.ySize = ySize\n",
        "\n",
        "    self.encoder = nn.GRU(inSize, sSize)\n",
        "    self.decoder = nn.GRU(ySize, sSize)\n",
        "\n",
        "    self.h2o = nn.Linear(sSize, ySize)\n",
        "    self.Softmax = nn.LogSoftmax(2)\n",
        "\n",
        "  def forward(self, X, limit, Y=None):\n",
        "\n",
        "    states, endState = self.encoder(X)\n",
        "\n",
        "    #print('X Shape: ', X.shape)\n",
        "    #print('States Shape: ', states.shape)\n",
        "    #print('endState Shape: ', endState.shape)\n",
        "\n",
        "    dCurrentState = endState\n",
        "    dX = torch.zeros(1, 1, self.ySize).to(accelerator)\n",
        "\n",
        "    y = []\n",
        "\n",
        "    for i in range(limit):\n",
        "\n",
        "      #print('dX Shape: ', dX.shape, 'dCurrentState Shape: ', dCurrentState.shape)\n",
        "\n",
        "      yH, dCurrentState = self.decoder(dX, dCurrentState)\n",
        "      #print('yH Shape: ', yH.shape, 'dCurrenState Shape: ', dCurrentState.shape)\n",
        "\n",
        "      yH = self.h2o(dCurrentState)\n",
        "      #print('Raw YH Shape: ', yH.shape)\n",
        "      yH = self.Softmax(yH)\n",
        "      #print('yH Shape: ', yH.shape)\n",
        "\n",
        "      y.append(yH.view(1, -1))\n",
        "      #print(y)\n",
        "      #print(yH.view(1, -1), yH.view(1, -1).shape)\n",
        "\n",
        "      maxIdx = torch.argmax(yH, 2)\n",
        "\n",
        "      if Y is not None:\n",
        "\n",
        "        maxIdx = Y[i].item()\n",
        "\n",
        "      #print(maxIdx)\n",
        "      newX = torch.zeros(yH.shape).to(accelerator)\n",
        "      newX[:, :, int(maxIdx)] = 1\n",
        "      #print('newX Shape: ', newX.shape)\n",
        "\n",
        "      dX = newX.detach()\n",
        "\n",
        "    return y\n",
        "    "
      ],
      "execution_count": null,
      "outputs": []
    },
    {
      "cell_type": "code",
      "metadata": {
        "id": "r6lBM-g52ehM"
      },
      "source": [
        "engine = TransliterationEngine(len(alphabet2code), 256, len(devnagari2Code))"
      ],
      "execution_count": null,
      "outputs": []
    },
    {
      "cell_type": "code",
      "metadata": {
        "id": "Ax7pXkx62zYu"
      },
      "source": [
        "test = engine(RepresentEnglishWord('INDIA'), 2)"
      ],
      "execution_count": null,
      "outputs": []
    },
    {
      "cell_type": "code",
      "metadata": {
        "colab": {
          "base_uri": "https://localhost:8080/"
        },
        "id": "60koXeUCCXbw",
        "outputId": "fba09e07-e512-4e7d-ac18-aa672e224d34"
      },
      "source": [
        "print(len(test))\n",
        "for i in test:\n",
        "  print(list(devnagari2Code.keys())[list(devnagari2Code.values()).index(torch.argmax(i, 1).item())])"
      ],
      "execution_count": null,
      "outputs": [
        {
          "output_type": "stream",
          "text": [
            "2\n",
            "्\n",
            "॔\n"
          ],
          "name": "stdout"
        }
      ]
    },
    {
      "cell_type": "code",
      "metadata": {
        "id": "tt4kq8o4iD87"
      },
      "source": [
        "for i in range(len(test)):\n",
        "\n",
        "  print(test[i])"
      ],
      "execution_count": null,
      "outputs": []
    },
    {
      "cell_type": "markdown",
      "metadata": {
        "id": "zkw1Wrh-FLX-"
      },
      "source": [
        "# **Transliterator With Attention**"
      ]
    },
    {
      "cell_type": "code",
      "metadata": {
        "id": "v9JbSu6BFKX3"
      },
      "source": [
        "class AttentiveTransliterationEngine(nn.Module):\n",
        "\n",
        "  def __init__(self, inSize, sSize, ySize):\n",
        "\n",
        "    super(AttentiveTransliterationEngine, self).__init__()\n",
        "\n",
        "    self.sSize = sSize\n",
        "    self.ySize = ySize\n",
        "\n",
        "    self.encoder = nn.GRU(inSize, sSize)\n",
        "    self.decoder = nn.GRU(sSize * 2, sSize)\n",
        "\n",
        "    self.h2o = nn.Linear(sSize, ySize)\n",
        "    self.Softmax = nn.LogSoftmax(2)\n",
        "\n",
        "    self.attentionV = nn.Linear(sSize, 1)\n",
        "    self.U = nn.Linear(sSize, sSize)\n",
        "    self.W = nn.Linear(sSize, sSize)\n",
        "\n",
        "    self.bridge = nn.Linear(ySize, sSize)\n",
        "\n",
        "  def forward(self, X, limit, Y=None):\n",
        "\n",
        "    states, endState = self.encoder(X)\n",
        "    #print(states.shape)\n",
        "    states = states.view(-1, self.sSize)\n",
        "\n",
        "    #print('X Shape: ', X.shape)\n",
        "    #print('States Shape: ', states.shape)\n",
        "    #print('endState Shape: ', endState.shape)\n",
        "\n",
        "    dCurrentState = endState\n",
        "    dX = torch.zeros(1, 1, self.ySize).to(accelerator)\n",
        "    y = []\n",
        "\n",
        "    U = self.U(states)\n",
        "    #print('U Shape: ', U.shape)\n",
        "\n",
        "    for i in range(limit):\n",
        "\n",
        "      #print('dX Shape: ', dX.shape, 'dCurrentState Shape: ', dCurrentState.shape)\n",
        "      #print('gW Shape: ', dCurrentState.view(1, -1).repeat(states.shape[0], 1).shape)\n",
        "      W = self.W(dCurrentState.view(1, -1).repeat(states.shape[0], 1))\n",
        "      V = self.attentionV(torch.tanh(U + W))\n",
        "      #print('V Shape:', V.shape)\n",
        "\n",
        "      oracle = Functional.softmax(V.view(1, -1), 1)\n",
        "      #print('Oracle Shape: ', oracle.shape)\n",
        "\n",
        "      #print('Operation: ', oracle.unsqueeze(0).shape, states.unsqueeze(0).shape)\n",
        "      betterStates = torch.bmm(oracle.unsqueeze(0), states.unsqueeze(0))\n",
        "      #print('Better States Shape: ', betterStates[0].shape)\n",
        "      dX = self.bridge(dX)\n",
        "      #rint('dX Shape: ', dX[0].shape)\n",
        "      dX = (torch.cat((dX[0], betterStates[0]), 1)).unsqueeze(0)\n",
        "      #print('Real dX Shape: ', dX.shape)\n",
        "\n",
        "      yH, dCurrentState = self.decoder(dX, dCurrentState)\n",
        "\n",
        "      yH = self.h2o(dCurrentState)\n",
        "      #print('Raw YH Shape: ', yH.shape)\n",
        "      yH = self.Softmax(yH)\n",
        "      #print('yH Shape: ', yH.shape)\n",
        "\n",
        "      y.append(yH.view(1, -1))\n",
        "\n",
        "      maxIdx = torch.argmax(yH, 2)\n",
        "\n",
        "      if Y is not None:\n",
        "\n",
        "        maxIdx = Y[i].item()\n",
        "\n",
        "      newX = torch.zeros(yH.shape, device=accelerator)\n",
        "      newX[:, :, int(maxIdx)] = 1\n",
        "\n",
        "      dX = newX.detach()\n",
        "\n",
        "    return y\n",
        "    "
      ],
      "execution_count": null,
      "outputs": []
    },
    {
      "cell_type": "code",
      "metadata": {
        "id": "Uy2tGFG35O-K"
      },
      "source": [
        "def Accurize(Model, Set):\n",
        "\n",
        "  Model.eval()\n",
        "\n",
        "  accuracy = 0\n",
        "\n",
        "  for x, y in Set:\n",
        "\n",
        "    x = RepresentEnglishWord(x)\n",
        "    y = RepresentHindiWord(y)\n",
        "\n",
        "    yH = Model(x, y.shape[0])\n",
        "    correct = 0\n",
        "\n",
        "    for yh, yC in zip(yH, y):\n",
        "\n",
        "      yh = yh.argmax(1).tolist()[0]\n",
        "      \n",
        "      if yh == yC[0]:\n",
        "\n",
        "        correct += 1\n",
        "\n",
        "    accuracy += correct / y.shape[0]\n",
        "  \n",
        "  accuracy /= len(Set)\n",
        "\n",
        "  return accuracy"
      ],
      "execution_count": null,
      "outputs": []
    },
    {
      "cell_type": "code",
      "metadata": {
        "id": "rEIiW0ksFpKI"
      },
      "source": [
        "def TrainBatch(Model, Optimizer, lossFunction, batchSize, teacherForcing):\n",
        "\n",
        "  Model.train().to(accelerator)\n",
        "  \n",
        "  X, Y = trainingSet.GetBatch(batchSize)\n",
        "  totalLoss = 0\n",
        "\n",
        "  Optimizer.zero_grad()\n",
        "  \n",
        "  for x, y in zip(X, Y):\n",
        "\n",
        "    x = RepresentEnglishWord(x)\n",
        "    y = RepresentHindiWord(y)\n",
        "\n",
        "    yH = Model(x, y.shape[0], y if teacherForcing else None)\n",
        "    \n",
        "    for idx, yh in enumerate(yH):\n",
        "\n",
        "      loss = lossFunction(yh, y[idx]) / batchSize\n",
        "      loss.backward(retain_graph=True)\n",
        "      totalLoss += loss\n",
        "\n",
        "    del(x)\n",
        "    del(y)\n",
        "    del(yH)\n",
        "\n",
        "  Optimizer.step()\n",
        "\n",
        "  return totalLoss / batchSize"
      ],
      "execution_count": null,
      "outputs": []
    },
    {
      "cell_type": "code",
      "metadata": {
        "id": "OaH2kD7VH0hS"
      },
      "source": [
        "def Train(Model, learningRate, momentum, epochs, batchSize, displayFrequency):\n",
        "\n",
        "  Model = Model.to(accelerator)\n",
        "  Optimizer = optim.Adam(Model.parameters(), lr=learningRate)\n",
        "  lossFunction = nn.NLLLoss(ignore_index=-1)\n",
        "\n",
        "  forceUpto = epochs // 3\n",
        "\n",
        "  lossArchive = np.zeros(epochs + 1)\n",
        "\n",
        "  for i in range(epochs):\n",
        "\n",
        "    lossArchive[i+1] = (lossArchive[i]*i + TrainBatch(Model, Optimizer, lossFunction, batchSize, i<forceUpto ))/(i + 1)\n",
        "\n",
        "    if i % displayFrequency == displayFrequency - 1:\n",
        "\n",
        "      print('Epoch Iteration: ', i + 1, 'Loss: ', lossArchive[i])\n",
        "      plt.figure()\n",
        "      plt.plot(lossArchive[1:i], '*-')\n",
        "      plt.xlabel('Epochs')\n",
        "      plt.ylabel('Loss')\n",
        "      plt.show()\n",
        "\n",
        "      print('\\n\\n')\n"
      ],
      "execution_count": null,
      "outputs": []
    },
    {
      "cell_type": "code",
      "metadata": {
        "id": "tT1Oi9Wf7mVV"
      },
      "source": [
        "engine = TransliterationEngine(len(alphabet2code), 256, len(devnagari2Code))"
      ],
      "execution_count": null,
      "outputs": []
    },
    {
      "cell_type": "code",
      "metadata": {
        "id": "RlUhQKk8PXE8"
      },
      "source": [
        "Train(engine, 0.00010, 0.9, 100, 64, 25)"
      ],
      "execution_count": null,
      "outputs": []
    },
    {
      "cell_type": "code",
      "metadata": {
        "colab": {
          "base_uri": "https://localhost:8080/",
          "height": 163
        },
        "id": "c8bImW2k_D58",
        "outputId": "292f3ada-4c25-4f28-8d9a-4dbe8f791ad0"
      },
      "source": [
        "Accurize(engine, trainingSet)"
      ],
      "execution_count": null,
      "outputs": [
        {
          "output_type": "error",
          "ename": "NameError",
          "evalue": "ignored",
          "traceback": [
            "\u001b[0;31m---------------------------------------------------------------------------\u001b[0m",
            "\u001b[0;31mNameError\u001b[0m                                 Traceback (most recent call last)",
            "\u001b[0;32m<ipython-input-21-8f2b28551272>\u001b[0m in \u001b[0;36m<module>\u001b[0;34m()\u001b[0m\n\u001b[0;32m----> 1\u001b[0;31m \u001b[0mAccurize\u001b[0m\u001b[0;34m(\u001b[0m\u001b[0mengine\u001b[0m\u001b[0;34m,\u001b[0m \u001b[0mtrainingSet\u001b[0m\u001b[0;34m)\u001b[0m\u001b[0;34m\u001b[0m\u001b[0;34m\u001b[0m\u001b[0m\n\u001b[0m",
            "\u001b[0;31mNameError\u001b[0m: name 'engine' is not defined"
          ]
        }
      ]
    },
    {
      "cell_type": "code",
      "metadata": {
        "id": "L4y4uzoTyaSW"
      },
      "source": [
        "attentiveEngine = AttentiveTransliterationEngine(len(alphabet2code), 256, len(devnagari2Code))"
      ],
      "execution_count": null,
      "outputs": []
    },
    {
      "cell_type": "code",
      "metadata": {
        "colab": {
          "base_uri": "https://localhost:8080/"
        },
        "id": "OQy4BLgcDFT3",
        "outputId": "3c7678c1-7301-4bf5-d175-f7a28c029e34"
      },
      "source": [
        "attentiveEngine.load_state_dict(torch.load(os.path.join('.', 'ATE 3.pth')))"
      ],
      "execution_count": null,
      "outputs": [
        {
          "output_type": "execute_result",
          "data": {
            "text/plain": [
              "<All keys matched successfully>"
            ]
          },
          "metadata": {
            "tags": []
          },
          "execution_count": 18
        }
      ]
    },
    {
      "cell_type": "code",
      "metadata": {
        "id": "5XoCvxX_FtFn",
        "colab": {
          "base_uri": "https://localhost:8080/",
          "height": 1000
        },
        "outputId": "63111865-e942-460d-b824-76e78cadc9f7"
      },
      "source": [
        "Train(attentiveEngine, 0.001, 0.9, 100, 64, 25)"
      ],
      "execution_count": null,
      "outputs": [
        {
          "output_type": "stream",
          "text": [
            "Epoch Iteration:  25 Loss:  0.0470297746360302\n"
          ],
          "name": "stdout"
        },
        {
          "output_type": "display_data",
          "data": {
            "image/png": "[encoded data removed]",
            "text/plain": [
              "<Figure size 432x288 with 1 Axes>"
            ]
          },
          "metadata": {
            "tags": [],
            "needs_background": "light"
          }
        },
        {
          "output_type": "stream",
          "text": [
            "\n",
            "\n",
            "\n",
            "Epoch Iteration:  50 Loss:  0.05601248890161514\n"
          ],
          "name": "stdout"
        },
        {
          "output_type": "display_data",
          "data": {
            "image/png": "[encoded data removed]",
            "text/plain": [
              "<Figure size 432x288 with 1 Axes>"
            ]
          },
          "metadata": {
            "tags": [],
            "needs_background": "light"
          }
        },
        {
          "output_type": "stream",
          "text": [
            "\n",
            "\n",
            "\n",
            "Epoch Iteration:  75 Loss:  0.06239151209592819\n"
          ],
          "name": "stdout"
        },
        {
          "output_type": "display_data",
          "data": {
            "image/png": "[encoded data removed]",
            "text/plain": [
              "<Figure size 432x288 with 1 Axes>"
            ]
          },
          "metadata": {
            "tags": [],
            "needs_background": "light"
          }
        },
        {
          "output_type": "stream",
          "text": [
            "\n",
            "\n",
            "\n",
            "Epoch Iteration:  100 Loss:  0.06399311870336533\n"
          ],
          "name": "stdout"
        },
        {
          "output_type": "display_data",
          "data": {
            "image/png": "[encoded data removed]",
            "text/plain": [
              "<Figure size 432x288 with 1 Axes>"
            ]
          },
          "metadata": {
            "tags": [],
            "needs_background": "light"
          }
        },
        {
          "output_type": "stream",
          "text": [
            "\n",
            "\n",
            "\n"
          ],
          "name": "stdout"
        }
      ]
    },
    {
      "cell_type": "code",
      "metadata": {
        "id": "D9Z3R4KJksEy"
      },
      "source": [
        "torch.save(attentiveEngine.state_dict(), os.path.join('.', 'ATE 3.pth'))"
      ],
      "execution_count": null,
      "outputs": []
    },
    {
      "cell_type": "code",
      "metadata": {
        "id": "zIN-dypOZuBv",
        "colab": {
          "base_uri": "https://localhost:8080/"
        },
        "outputId": "5ec984bd-6499-403d-84a2-b6c4823608aa"
      },
      "source": [
        "Accurize(attentiveEngine, trainingSet)"
      ],
      "execution_count": null,
      "outputs": [
        {
          "output_type": "execute_result",
          "data": {
            "text/plain": [
              "0.807002087891202"
            ]
          },
          "metadata": {
            "tags": []
          },
          "execution_count": 22
        }
      ]
    },
    {
      "cell_type": "code",
      "metadata": {
        "id": "ZTrRfSwEmatd"
      },
      "source": [
        "def Predict(Model, x):\n",
        "\n",
        "  yH = Model(x, 30)\n",
        "  y = []\n",
        "\n",
        "  for yh in yH:\n",
        "\n",
        "    prediction = torch.argmax(yh, 1)\n",
        "    \n",
        "    y.append(list(devnagari2Code.keys())[list(devnagari2Code.values()).index(prediction.item())])\n",
        "\n",
        "  newY = []\n",
        "  for g in y:\n",
        "    newY.append(g)\n",
        "    if g == '<pad>':\n",
        "      break\n",
        "\n",
        "  return newY"
      ],
      "execution_count": null,
      "outputs": []
    },
    {
      "cell_type": "code",
      "metadata": {
        "id": "kZF2iSpQVyWG"
      },
      "source": [
        "def Transliterate(Model):\n",
        "\n",
        "  while True:\n",
        "\n",
        "    x = input()\n",
        "    if x == 'end': break\n",
        "    x = RepresentEnglishWord(x.upper())\n",
        "\n",
        "    newY = Predict(Model, x)\n",
        "\n",
        "    print(''.join(newY[:-1]))"
      ],
      "execution_count": null,
      "outputs": []
    },
    {
      "cell_type": "code",
      "metadata": {
        "id": "xBWhmYdvWRh8",
        "colab": {
          "base_uri": "https://localhost:8080/"
        },
        "outputId": "8f66f1a8-0495-46f5-c276-4bd5d01cddc9"
      },
      "source": [
        "Transliterate(attentiveEngine)"
      ],
      "execution_count": null,
      "outputs": [
        {
          "output_type": "stream",
          "text": [
            "Aryan\n",
            "अर्यन\n",
            "India\n",
            "इंडिया\n",
            "America\n",
            "अमेरिका\n",
            "Spain\n",
            "स्पैन\n",
            "end\n"
          ],
          "name": "stdout"
        }
      ]
    },
    {
      "cell_type": "code",
      "metadata": {
        "colab": {
          "base_uri": "https://localhost:8080/"
        },
        "id": "5Hfh0Yb7Zt_p",
        "outputId": "3123fff3-b044-43eb-8b91-fb47aac7b8b1"
      },
      "source": [
        "print('Length of Training Dataset: ', len(trainingSet))\n",
        "print('Length of Testing Dataset: ' , len(testingDataset))\n",
        "\n",
        "for i in range(100):\n",
        "\n",
        "  sample  = testingDataset.GetRandomSample()\n",
        "  print('Sample: ', sample[0], ' - ', sample[1])"
      ],
      "execution_count": null,
      "outputs": [
        {
          "output_type": "stream",
          "text": [
            "Length of Training Dataset:  20399\n",
            "Length of Testing Dataset:  1000\n",
            "Sample:  STENKA  -  स्टेंका\n",
            "Sample:  KALPAGE  -  कल्पेज\n",
            "Sample:  GHANVATKAR  -  घनवटकर\n",
            "Sample:  MEMORIAL  -  मेमोरियल\n",
            "Sample:  NORTHUMBRIA  -  नार्थउंब्रिया\n",
            "Sample:  DABHOI  -  दभोई\n",
            "Sample:  FOND  -  फॉन्ड\n",
            "Sample:  SIDDIQ  -  सिद्दीक\n",
            "Sample:  CHEMICAL  -  केमिकल\n",
            "Sample:  DAMDAMA  -  दमदमा\n",
            "Sample:  ARNOTT  -  आरनॉट\n",
            "Sample:  MOULTRIE  -  मॉल्ट्री\n",
            "Sample:  MAL  -  मल\n",
            "Sample:  MEDA  -  मेदा\n",
            "Sample:  MAAR  -  मार\n",
            "Sample:  KREBS  -  क्रेब्स\n",
            "Sample:  RESEARCH  -  रिसर्च\n",
            "Sample:  MEHRAB  -  मेहराब\n",
            "Sample:  AVELINE  -  एवलाइन\n",
            "Sample:  OONCH  -  ऊँच\n",
            "Sample:  MADARI  -  मदारी\n",
            "Sample:  HEMMINGS  -  हेमिंग्स\n",
            "Sample:  PHOTOGRAPHY  -  फोटोग्राफी\n",
            "Sample:  AON  -  एऑन\n",
            "Sample:  EDMONDS  -  एडमंड्स\n",
            "Sample:  MARCHAIS  -  मार्केस\n",
            "Sample:  CHAUDURY  -  चौधरी\n",
            "Sample:  KAROONGA  -  करूँगा\n",
            "Sample:  JHUK  -  झुक\n",
            "Sample:  KISSA  -  किस्सा\n",
            "Sample:  WHITMAN  -  व्हिटमॅन\n",
            "Sample:  TSAVO  -  त्सावो\n",
            "Sample:  SHEETLA  -  शीतला\n",
            "Sample:  PASCOAL  -  पास्कोल\n",
            "Sample:  SUNDARAM  -  सुंदरम\n",
            "Sample:  DAVIES  -  डेवीस\n",
            "Sample:  ARK  -  आर्क\n",
            "Sample:  DAAL  -  डाल\n",
            "Sample:  LISA  -  लिसा\n",
            "Sample:  GALAXIDI  -  गैलेक्सीडी\n",
            "Sample:  UEBERROTH  -  युबेरोथ\n",
            "Sample:  ALEX  -  एलेक्स\n",
            "Sample:  FASTENERS  -  फ़ास्टनर्स\n",
            "Sample:  ERHARD  -  इरहार्ड\n",
            "Sample:  COFFEE  -  कॉफी\n",
            "Sample:  RUZYNE  -  रूज़िन\n",
            "Sample:  INDUKAANT  -  इंदुकांत\n",
            "Sample:  MEDA  -  मेदा\n",
            "Sample:  DISK  -  डिस्क\n",
            "Sample:  MILAI  -  मिलाई\n",
            "Sample:  METH  -  मेथ\n",
            "Sample:  CANADAS  -  कैनेडास\n",
            "Sample:  CROWN  -  क्राउन\n",
            "Sample:  UNITED  -  यूनाइटेड\n",
            "Sample:  RANGILE  -  रंगीले\n",
            "Sample:  BANSHLAI  -  बंशलई\n",
            "Sample:  MUNEEM  -  मुनीम\n",
            "Sample:  SOYA  -  सोया\n",
            "Sample:  DLINK  -  डीलिंक\n",
            "Sample:  NAGAMOOTOO  -  नगामूटू\n",
            "Sample:  MEYRICK  -  मेरिक\n",
            "Sample:  GVK  -  जीवीके\n",
            "Sample:  SRIRAM  -  श्रीराम\n",
            "Sample:  NANSEN  -  नानसेन\n",
            "Sample:  WOH  -  वोह\n",
            "Sample:  ALAS  -  अलास\n",
            "Sample:  RANGEEN  -  रंगीन\n",
            "Sample:  DERYCK  -  डेरिक\n",
            "Sample:  HARWICH  -  हारविच\n",
            "Sample:  BERENDRECHT  -  बेरनड्रेच्ट\n",
            "Sample:  AMERICAN  -  अमेरिकन\n",
            "Sample:  IRISHMEN  -  इरिशमेन\n",
            "Sample:  PALUNG  -  पालुंग\n",
            "Sample:  ESTRELLA  -  एस्ट्रिला\n",
            "Sample:  MONTSHIRE  -  मॉन्टशायर\n",
            "Sample:  SAFIYYAH  -  सैफियाह\n",
            "Sample:  VERIZON  -  वरीज़ॉन\n",
            "Sample:  DOOLHA  -  दुल्हा\n",
            "Sample:  RADA  -  राडा\n",
            "Sample:  WALLINGTON  -  वैलिंगटन\n",
            "Sample:  BREESE  -  ब्रीस\n",
            "Sample:  GOKHALE  -  गोखले\n",
            "Sample:  DIKE  -  डाइक\n",
            "Sample:  JAAFAREE  -  जाफरी\n",
            "Sample:  RAINA  -  रायना\n",
            "Sample:  CYBER  -  सायबर\n",
            "Sample:  WOLFMAN  -  वॉल्फ़मैन\n",
            "Sample:  PANTANAL  -  पेंटानल\n",
            "Sample:  WHOOP  -  व्हूप\n",
            "Sample:  COPCO  -  कोप्को\n",
            "Sample:  LOBACHEVSKY  -  लोबाचेवस्की\n",
            "Sample:  CIMATARIO  -  सिमातारियो\n",
            "Sample:  DISK  -  डिस्क\n",
            "Sample:  PUBLIX  -  पब्लिक्स\n",
            "Sample:  SATTAAR  -  सत्तार\n",
            "Sample:  MONSANTO  -  मोनसेंटो\n",
            "Sample:  POORI  -  पुरी\n",
            "Sample:  PERSON  -  पर्सन\n",
            "Sample:  NIKITA  -  निकिता\n",
            "Sample:  SPIELBERG  -  स्पीलबर्ग\n"
          ],
          "name": "stdout"
        }
      ]
    },
    {
      "cell_type": "code",
      "metadata": {
        "id": "rkFhxX7blhzA"
      },
      "source": [
        "def TransliterateSentence(Model):\n",
        "\n",
        "  sentence = input().split()\n",
        "  sentenceHindi = []\n",
        "\n",
        "  for word in sentence:\n",
        "\n",
        "    word = RepresentEnglishWord(word.upper())\n",
        "\n",
        "    sentenceHindi.append(''.join(Predict(Model, word)[:-1]))\n",
        "\n",
        "  print(' '.join(sentenceHindi))"
      ],
      "execution_count": null,
      "outputs": []
    },
    {
      "cell_type": "code",
      "metadata": {
        "colab": {
          "base_uri": "https://localhost:8080/"
        },
        "id": "WfDAgK0JXtnD",
        "outputId": "9c6b716a-9626-4475-b943-5aa14f1b1471"
      },
      "source": [
        "TransliterateSentence(attentiveEngine)"
      ],
      "execution_count": null,
      "outputs": [
        {
          "output_type": "stream",
          "text": [
            "Mumbai\n",
            "मुम्बई\n"
          ],
          "name": "stdout"
        }
      ]
    },
    {
      "cell_type": "markdown",
      "metadata": {
        "id": "R4oi_gt0FNG4"
      },
      "source": [
        "# **Not Important**"
      ]
    },
    {
      "cell_type": "code",
      "metadata": {
        "id": "IEGZEyUhyvAw"
      },
      "source": [
        "def train_batch(net, opt, criterion, batch_size, device = 'cpu', teacher_force = False):\n",
        "    \n",
        "    net.train().to(device)\n",
        "    opt.zero_grad()\n",
        "    eng_batch, hindi_batch = trainingSet.GetBatch(batch_size)\n",
        "    \n",
        "    total_loss = 0\n",
        "    for i in range(batch_size):\n",
        "        \n",
        "        input = RepresentEnglishWord(eng_batch[i])\n",
        "        gt = RepresentHindiWord(hindi_batch[i])\n",
        "        outputs = net(input, gt.shape[0], gt if teacher_force else None)\n",
        "        \n",
        "        for index, output in enumerate(outputs):\n",
        "            #print(output.shape, gt[index].shape, gt[index])\n",
        "            loss = criterion(output, gt[index]) / batch_size\n",
        "            loss.backward(retain_graph = True)\n",
        "            total_loss += loss\n",
        "        \n",
        "    opt.step()\n",
        "    return total_loss/batch_size"
      ],
      "execution_count": null,
      "outputs": []
    },
    {
      "cell_type": "code",
      "metadata": {
        "id": "kNHjqONCyxr4"
      },
      "source": [
        "def train_setup(net, lr = 0.01, n_batches = 100, batch_size = 10, momentum = 0.9, display_freq=5, device = 'cpu'):\n",
        "    \n",
        "    net = net.to(device)\n",
        "    criterion = nn.NLLLoss(ignore_index = -1)\n",
        "    opt = optim.Adam(net.parameters(), lr=lr)\n",
        "    teacher_force_upto = n_batches//3\n",
        "    \n",
        "    loss_arr = np.zeros(n_batches + 1)\n",
        "    \n",
        "    for i in range(n_batches):\n",
        "        loss_arr[i+1] = (loss_arr[i]*i + train_batch(net, opt, criterion, batch_size, device = device, teacher_force = i<teacher_force_upto ))/(i + 1)\n",
        "        \n",
        "        if i%display_freq == display_freq-1:\n",
        "            \n",
        "            print('Iteration', i, 'Loss', loss_arr[i])\n",
        "            plt.figure()\n",
        "            plt.plot(loss_arr[1:i], '-*')\n",
        "            plt.xlabel('Iteration')\n",
        "            plt.ylabel('Loss')\n",
        "            plt.show()\n",
        "            print('\\n\\n')\n",
        "            \n",
        "    torch.save(net, 'model.pt')\n",
        "    return loss_arr"
      ],
      "execution_count": null,
      "outputs": []
    },
    {
      "cell_type": "code",
      "metadata": {
        "id": "LoMY0GsxB97A"
      },
      "source": [
        "def calc_accuracy(net):\n",
        "    net = net.eval()\n",
        "    predictions = []\n",
        "    accuracy = 0\n",
        "    for i in range(len(trainingSet)):\n",
        "        eng, hindi = trainingSet[i]\n",
        "        eng = RepresentEnglishWord(eng)\n",
        "        gt = RepresentHindiWord(hindi)\n",
        "        outputs = net(eng, gt.shape[0])\n",
        "        correct = 0\n",
        "        for index, out in enumerate(outputs):\n",
        "            val, indices = out.topk(1)\n",
        "            hindi_pos = indices.tolist()[0]\n",
        "            if hindi_pos[0] == gt[index][0]:\n",
        "                correct += 1\n",
        "        \n",
        "        accuracy += correct/gt.shape[0]\n",
        "    accuracy /= len(trainingSet)\n",
        "    return accuracy"
      ],
      "execution_count": null,
      "outputs": []
    },
    {
      "cell_type": "code",
      "metadata": {
        "colab": {
          "base_uri": "https://localhost:8080/",
          "height": 1000
        },
        "id": "8vgIDQeAy-Hn",
        "outputId": "02fd2c46-16a2-44e5-81c9-d0357ba29d58"
      },
      "source": [
        "train_setup(engine, 0.001, 50, 64, 0.9, 10)"
      ],
      "execution_count": null,
      "outputs": [
        {
          "output_type": "stream",
          "text": [
            "Iteration 9 Loss 0.3289884328842163\n"
          ],
          "name": "stdout"
        },
        {
          "output_type": "display_data",
          "data": {
            "image/png": "[encoded data removed]",
            "text/plain": [
              "<Figure size 432x288 with 1 Axes>"
            ]
          },
          "metadata": {
            "tags": [],
            "needs_background": "light"
          }
        },
        {
          "output_type": "stream",
          "text": [
            "\n",
            "\n",
            "\n",
            "Iteration 19 Loss 0.327423095703125\n"
          ],
          "name": "stdout"
        },
        {
          "output_type": "display_data",
          "data": {
            "image/png": "[encoded data removed]",
            "text/plain": [
              "<Figure size 432x288 with 1 Axes>"
            ]
          },
          "metadata": {
            "tags": [],
            "needs_background": "light"
          }
        },
        {
          "output_type": "stream",
          "text": [
            "\n",
            "\n",
            "\n",
            "Iteration 29 Loss 0.32444503903388977\n"
          ],
          "name": "stdout"
        },
        {
          "output_type": "display_data",
          "data": {
            "image/png": "[encoded data removed]",
            "text/plain": [
              "<Figure size 432x288 with 1 Axes>"
            ]
          },
          "metadata": {
            "tags": [],
            "needs_background": "light"
          }
        },
        {
          "output_type": "stream",
          "text": [
            "\n",
            "\n",
            "\n",
            "Iteration 39 Loss 0.322243869304657\n"
          ],
          "name": "stdout"
        },
        {
          "output_type": "display_data",
          "data": {
            "image/png": "[encoded data removed]",
            "text/plain": [
              "<Figure size 432x288 with 1 Axes>"
            ]
          },
          "metadata": {
            "tags": [],
            "needs_background": "light"
          }
        },
        {
          "output_type": "stream",
          "text": [
            "\n",
            "\n",
            "\n",
            "Iteration 49 Loss 0.31965354084968567\n"
          ],
          "name": "stdout"
        },
        {
          "output_type": "display_data",
          "data": {
            "image/png": "[encoded data removed]",
            "text/plain": [
              "<Figure size 432x288 with 1 Axes>"
            ]
          },
          "metadata": {
            "tags": [],
            "needs_background": "light"
          }
        },
        {
          "output_type": "stream",
          "text": [
            "\n",
            "\n",
            "\n"
          ],
          "name": "stdout"
        },
        {
          "output_type": "execute_result",
          "data": {
            "text/plain": [
              "array([0.        , 0.36977777, 0.35759085, 0.34847713, 0.33972469,\n",
              "       0.34022516, 0.33828792, 0.33223888, 0.33080971, 0.32898843,\n",
              "       0.32703698, 0.32738507, 0.32776698, 0.32743412, 0.32798204,\n",
              "       0.32667384, 0.32567564, 0.32518724, 0.32650697, 0.3274231 ,\n",
              "       0.32602856, 0.32622877, 0.32563952, 0.32556176, 0.32608113,\n",
              "       0.32541817, 0.32482535, 0.32448673, 0.32449809, 0.32444504,\n",
              "       0.32370964, 0.32316789, 0.3230077 , 0.32246447, 0.32254988,\n",
              "       0.32207274, 0.32244265, 0.32211393, 0.32232696, 0.32224387,\n",
              "       0.32225019, 0.3223474 , 0.32174954, 0.32154596, 0.32155892,\n",
              "       0.32163426, 0.32071075, 0.32078993, 0.32020918, 0.31965354,\n",
              "       0.31991833])"
            ]
          },
          "metadata": {
            "tags": []
          },
          "execution_count": 39
        }
      ]
    },
    {
      "cell_type": "code",
      "metadata": {
        "colab": {
          "base_uri": "https://localhost:8080/"
        },
        "id": "CoWaNSqnCGGE",
        "outputId": "bb41055f-84ac-4f40-d331-d4c34b75a36a"
      },
      "source": [
        "calc_accuracy(engine)"
      ],
      "execution_count": null,
      "outputs": [
        {
          "output_type": "execute_result",
          "data": {
            "text/plain": [
              "0.7900871561152162"
            ]
          },
          "metadata": {
            "tags": []
          },
          "execution_count": 34
        }
      ]
    }
  ]
}